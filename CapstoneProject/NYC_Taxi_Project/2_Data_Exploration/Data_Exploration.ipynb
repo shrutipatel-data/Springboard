{
 "cells": [
  {
   "cell_type": "code",
   "execution_count": 4,
   "id": "2020a8ff",
   "metadata": {},
   "outputs": [],
   "source": [
    "import pandas as pd"
   ]
  },
  {
   "cell_type": "code",
   "execution_count": 10,
   "id": "b5c98645",
   "metadata": {},
   "outputs": [
    {
     "name": "stderr",
     "output_type": "stream",
     "text": [
      "/opt/app-root/lib/python3.6/site-packages/IPython/core/interactiveshell.py:3072: DtypeWarning: Columns (6) have mixed types.Specify dtype option on import or set low_memory=False.\n",
      "  interactivity=interactivity, compiler=compiler, result=result)\n"
     ]
    },
    {
     "data": {
      "text/html": [
       "<div>\n",
       "<style scoped>\n",
       "    .dataframe tbody tr th:only-of-type {\n",
       "        vertical-align: middle;\n",
       "    }\n",
       "\n",
       "    .dataframe tbody tr th {\n",
       "        vertical-align: top;\n",
       "    }\n",
       "\n",
       "    .dataframe thead th {\n",
       "        text-align: right;\n",
       "    }\n",
       "</style>\n",
       "<table border=\"1\" class=\"dataframe\">\n",
       "  <thead>\n",
       "    <tr style=\"text-align: right;\">\n",
       "      <th></th>\n",
       "      <th></th>\n",
       "      <th>:59</th>\n",
       "      <th>2</th>\n",
       "      <th>.80</th>\n",
       "      <th>1</th>\n",
       "      <th>N</th>\n",
       "      <th>262</th>\n",
       "      <th>141</th>\n",
       "      <th>1.1</th>\n",
       "      <th>5.5</th>\n",
       "      <th>0</th>\n",
       "      <th>0.5</th>\n",
       "      <th>1.76</th>\n",
       "      <th>0.1</th>\n",
       "      <th>0.3</th>\n",
       "      <th>10.56</th>\n",
       "      <th>2.5</th>\n",
       "    </tr>\n",
       "  </thead>\n",
       "  <tbody>\n",
       "    <tr>\n",
       "      <th rowspan=\"3\" valign=\"top\">2.0</th>\n",
       "      <th>2020-01-03 13:18:15</th>\n",
       "      <td>2020-01-03 13:20:05</td>\n",
       "      <td>1.0</td>\n",
       "      <td>0.27</td>\n",
       "      <td>1.0</td>\n",
       "      <td>N</td>\n",
       "      <td>141</td>\n",
       "      <td>237</td>\n",
       "      <td>1.0</td>\n",
       "      <td>3.5</td>\n",
       "      <td>0.0</td>\n",
       "      <td>0.5</td>\n",
       "      <td>2.50</td>\n",
       "      <td>0.0</td>\n",
       "      <td>0.3</td>\n",
       "      <td>9.30</td>\n",
       "      <td>2.5</td>\n",
       "    </tr>\n",
       "    <tr>\n",
       "      <th>2020-01-03 13:21:15</th>\n",
       "      <td>2020-01-03 13:49:46</td>\n",
       "      <td>1.0</td>\n",
       "      <td>4.69</td>\n",
       "      <td>1.0</td>\n",
       "      <td>N</td>\n",
       "      <td>237</td>\n",
       "      <td>152</td>\n",
       "      <td>2.0</td>\n",
       "      <td>20.5</td>\n",
       "      <td>0.0</td>\n",
       "      <td>0.5</td>\n",
       "      <td>0.00</td>\n",
       "      <td>0.0</td>\n",
       "      <td>0.3</td>\n",
       "      <td>23.80</td>\n",
       "      <td>2.5</td>\n",
       "    </tr>\n",
       "    <tr>\n",
       "      <th>2020-01-03 13:36:02</th>\n",
       "      <td>2020-01-03 13:41:15</td>\n",
       "      <td>1.0</td>\n",
       "      <td>0.70</td>\n",
       "      <td>1.0</td>\n",
       "      <td>N</td>\n",
       "      <td>236</td>\n",
       "      <td>237</td>\n",
       "      <td>1.0</td>\n",
       "      <td>5.0</td>\n",
       "      <td>0.0</td>\n",
       "      <td>0.5</td>\n",
       "      <td>1.66</td>\n",
       "      <td>0.0</td>\n",
       "      <td>0.3</td>\n",
       "      <td>9.96</td>\n",
       "      <td>2.5</td>\n",
       "    </tr>\n",
       "    <tr>\n",
       "      <th rowspan=\"2\" valign=\"top\">1.0</th>\n",
       "      <th>2020-01-03 13:04:50</th>\n",
       "      <td>2020-01-03 13:10:19</td>\n",
       "      <td>1.0</td>\n",
       "      <td>0.80</td>\n",
       "      <td>1.0</td>\n",
       "      <td>N</td>\n",
       "      <td>114</td>\n",
       "      <td>79</td>\n",
       "      <td>1.0</td>\n",
       "      <td>5.5</td>\n",
       "      <td>2.5</td>\n",
       "      <td>0.5</td>\n",
       "      <td>1.75</td>\n",
       "      <td>0.0</td>\n",
       "      <td>0.3</td>\n",
       "      <td>10.55</td>\n",
       "      <td>2.5</td>\n",
       "    </tr>\n",
       "    <tr>\n",
       "      <th>2020-01-03 13:13:14</th>\n",
       "      <td>2020-01-03 13:16:33</td>\n",
       "      <td>1.0</td>\n",
       "      <td>0.50</td>\n",
       "      <td>1.0</td>\n",
       "      <td>N</td>\n",
       "      <td>107</td>\n",
       "      <td>137</td>\n",
       "      <td>1.0</td>\n",
       "      <td>4.5</td>\n",
       "      <td>2.5</td>\n",
       "      <td>0.5</td>\n",
       "      <td>1.55</td>\n",
       "      <td>0.0</td>\n",
       "      <td>0.3</td>\n",
       "      <td>9.35</td>\n",
       "      <td>2.5</td>\n",
       "    </tr>\n",
       "  </tbody>\n",
       "</table>\n",
       "</div>"
      ],
      "text/plain": [
       "                                         :59    2   .80    1  N  262  141  \\\n",
       "2.0 2020-01-03 13:18:15  2020-01-03 13:20:05  1.0  0.27  1.0  N  141  237   \n",
       "    2020-01-03 13:21:15  2020-01-03 13:49:46  1.0  4.69  1.0  N  237  152   \n",
       "    2020-01-03 13:36:02  2020-01-03 13:41:15  1.0  0.70  1.0  N  236  237   \n",
       "1.0 2020-01-03 13:04:50  2020-01-03 13:10:19  1.0  0.80  1.0  N  114   79   \n",
       "    2020-01-03 13:13:14  2020-01-03 13:16:33  1.0  0.50  1.0  N  107  137   \n",
       "\n",
       "                         1.1   5.5    0  0.5  1.76  0.1  0.3  10.56  2.5  \n",
       "2.0 2020-01-03 13:18:15  1.0   3.5  0.0  0.5  2.50  0.0  0.3   9.30  2.5  \n",
       "    2020-01-03 13:21:15  2.0  20.5  0.0  0.5  0.00  0.0  0.3  23.80  2.5  \n",
       "    2020-01-03 13:36:02  1.0   5.0  0.0  0.5  1.66  0.0  0.3   9.96  2.5  \n",
       "1.0 2020-01-03 13:04:50  1.0   5.5  2.5  0.5  1.75  0.0  0.3  10.55  2.5  \n",
       "    2020-01-03 13:13:14  1.0   4.5  2.5  0.5  1.55  0.0  0.3   9.35  2.5  "
      ]
     },
     "execution_count": 10,
     "metadata": {},
     "output_type": "execute_result"
    }
   ],
   "source": [
    "df = pd.read_csv(\"nyc.2020-01.csv\")\n",
    "df.head()"
   ]
  },
  {
   "cell_type": "code",
   "execution_count": 11,
   "id": "64c4f992",
   "metadata": {},
   "outputs": [
    {
     "name": "stdout",
     "output_type": "stream",
     "text": [
      "<class 'pandas.core.frame.DataFrame'>\n",
      "MultiIndex: 6007822 entries, (2.0, '2020-01-03 13:18:15') to (nan, '2020-01-31 22:44:00')\n",
      "Data columns (total 16 columns):\n",
      " #   Column  Dtype  \n",
      "---  ------  -----  \n",
      " 0   :59     object \n",
      " 1   2       float64\n",
      " 2   .80     float64\n",
      " 3   1       float64\n",
      " 4   N       object \n",
      " 5   262     int64  \n",
      " 6   141     int64  \n",
      " 7   1.1     float64\n",
      " 8   5.5     float64\n",
      " 9   0       float64\n",
      " 10  0.5     float64\n",
      " 11  1.76    float64\n",
      " 12  0.1     float64\n",
      " 13  0.3     float64\n",
      " 14  10.56   float64\n",
      " 15  2.5     float64\n",
      "dtypes: float64(12), int64(2), object(2)\n",
      "memory usage: 857.1+ MB\n"
     ]
    }
   ],
   "source": [
    "df.info()"
   ]
  },
  {
   "cell_type": "code",
   "execution_count": 12,
   "id": "55a7a188",
   "metadata": {},
   "outputs": [
    {
     "data": {
      "text/plain": [
       "(6007822, 16)"
      ]
     },
     "execution_count": 12,
     "metadata": {},
     "output_type": "execute_result"
    }
   ],
   "source": [
    "df.shape"
   ]
  },
  {
   "cell_type": "code",
   "execution_count": 13,
   "id": "481b9f73",
   "metadata": {},
   "outputs": [
    {
     "name": "stdout",
     "output_type": "stream",
     "text": [
      "number of duplicate rows: (12952, 16)\n"
     ]
    }
   ],
   "source": [
    "duplicate_rows_df = df[df.duplicated()]\n",
    "print('number of duplicate rows:' , duplicate_rows_df.shape)"
   ]
  },
  {
   "cell_type": "code",
   "execution_count": null,
   "id": "9f5ea53a",
   "metadata": {},
   "outputs": [],
   "source": []
  }
 ],
 "metadata": {
  "kernelspec": {
   "display_name": "Data Quality (Py 3.6.9)",
   "language": "python",
   "name": "dqm"
  },
  "language_info": {
   "codemirror_mode": {
    "name": "ipython",
    "version": 3
   },
   "file_extension": ".py",
   "mimetype": "text/x-python",
   "name": "python",
   "nbconvert_exporter": "python",
   "pygments_lexer": "ipython3",
   "version": "3.6.9"
  }
 },
 "nbformat": 4,
 "nbformat_minor": 5
}
